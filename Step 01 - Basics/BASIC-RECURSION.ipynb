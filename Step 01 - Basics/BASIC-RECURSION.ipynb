{
 "cells": [
  {
   "cell_type": "code",
   "id": "initial_id",
   "metadata": {
    "collapsed": true,
    "ExecuteTime": {
     "end_time": "2024-06-24T19:28:52.146195Z",
     "start_time": "2024-06-24T19:28:52.138268Z"
    }
   },
   "source": [
    "# SUM OF FIRST N NUMBERS\n",
    "def recursion(n):\n",
    "    if n==0:\n",
    "        return 0\n",
    "    return n + recursion(n-1)\n",
    "print(recursion(10))"
   ],
   "outputs": [
    {
     "name": "stdout",
     "output_type": "stream",
     "text": [
      "55\n"
     ]
    }
   ],
   "execution_count": 3
  },
  {
   "metadata": {
    "ExecuteTime": {
     "end_time": "2024-06-24T19:31:59.531708Z",
     "start_time": "2024-06-24T19:31:59.505966Z"
    }
   },
   "cell_type": "code",
   "source": [
    "# FACTORIAL OF N\n",
    "def factorial(n):\n",
    "    if n==0:\n",
    "        return 1\n",
    "    return n * factorial(n-1)\n",
    "print(factorial(4))"
   ],
   "id": "d3aec80a66602a2f",
   "outputs": [
    {
     "name": "stdout",
     "output_type": "stream",
     "text": [
      "24\n"
     ]
    }
   ],
   "execution_count": 4
  },
  {
   "metadata": {
    "ExecuteTime": {
     "end_time": "2024-06-24T19:34:19.769919Z",
     "start_time": "2024-06-24T19:34:19.753714Z"
    }
   },
   "cell_type": "code",
   "source": [
    "# FIBONACCI SERIES -> 1, 2, 3, 5, 8, 13, .......\n",
    "def fib(n):\n",
    "    if n <= 2:\n",
    "        return n\n",
    "    return fib(n-1) + fib(n-2)\n",
    "print(fib(5))"
   ],
   "id": "9a841f162d803e1",
   "outputs": [
    {
     "name": "stdout",
     "output_type": "stream",
     "text": [
      "8\n"
     ]
    }
   ],
   "execution_count": 5
  }
 ],
 "metadata": {
  "kernelspec": {
   "display_name": "Python 3",
   "language": "python",
   "name": "python3"
  },
  "language_info": {
   "codemirror_mode": {
    "name": "ipython",
    "version": 2
   },
   "file_extension": ".py",
   "mimetype": "text/x-python",
   "name": "python",
   "nbconvert_exporter": "python",
   "pygments_lexer": "ipython2",
   "version": "2.7.6"
  }
 },
 "nbformat": 4,
 "nbformat_minor": 5
}
